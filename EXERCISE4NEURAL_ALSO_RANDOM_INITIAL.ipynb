{
 "cells": [
  {
   "cell_type": "code",
   "execution_count": 45,
   "metadata": {},
   "outputs": [],
   "source": [
    "import os\n",
    "import numpy as np\n",
    "from matplotlib import pyplot\n",
    "from scipy import optimize\n",
    "from scipy.io import loadmat\n",
    "import utils\n",
    "%matplotlib inline"
   ]
  },
  {
   "cell_type": "code",
   "execution_count": 46,
   "metadata": {},
   "outputs": [
    {
     "name": "stdout",
     "output_type": "stream",
     "text": [
      "(5000, 400)\n",
      "(5000,)\n"
     ]
    },
    {
     "data": {
      "text/plain": [
       "(-0.5, 399.5, 19.5, -0.5)"
      ]
     },
     "execution_count": 46,
     "metadata": {},
     "output_type": "execute_result"
    },
    {
     "data": {
      "image/png": "[encoded data removed]",
      "text/plain": [
       "<Figure size 432x288 with 1 Axes>"
      ]
     },
     "metadata": {
      "needs_background": "light"
     },
     "output_type": "display_data"
    }
   ],
   "source": [
    "data = loadmat(\"ex4data1.mat\")\n",
    "data.keys()\n",
    "X,y=data['X'],data['y'].ravel()\n",
    "y[y==10]=0\n",
    "m=y.size\n",
    "print(X.shape)\n",
    "print(y.shape)\n",
    "random_indices=np.random.choice(m,20,replace=False)\n",
    "demo_pic=X[random_indices,:]\n",
    "pyplot.imshow(demo_pic.reshape(-1,20).T)\n",
    "pyplot.axis(False)"
   ]
  },
  {
   "cell_type": "code",
   "execution_count": 47,
   "metadata": {},
   "outputs": [
    {
     "name": "stdout",
     "output_type": "stream",
     "text": [
      "(25, 401)\n",
      "(10, 26)\n",
      "(10285,)\n"
     ]
    }
   ],
   "source": [
    "input_layer_size=400\n",
    "hidden_layer_size=25\n",
    "num_labels=10\n",
    "weights=loadmat(\"ex4weights.mat\")\n",
    "theta1,theta2=weights['Theta1'],weights['Theta2']\n",
    "theta2=np.roll(theta2,1,axis=0)\n",
    "print(theta1.shape)\n",
    "print(theta2.shape)\n",
    "np_params=np.concatenate((theta1.ravel(),theta2.ravel()))\n",
    "print(np_params.shape)"
   ]
  },
  {
   "cell_type": "code",
   "execution_count": 48,
   "metadata": {},
   "outputs": [
    {
     "name": "stdout",
     "output_type": "stream",
     "text": [
      "cost :  0.5760512469501331\n",
      "(10285,)\n",
      "gradient for thetas:  [ 6.18712766e-05 -6.33744979e-12  1.31648811e-12 ...  3.66775518e-04\n",
      "  2.91880885e-04  7.79237711e-05]\n"
     ]
    }
   ],
   "source": [
    "def sigmoid(z):\n",
    "    sig_array=np.zeros(z.shape)\n",
    "    sig_array=1.0/(1+np.exp(-z))\n",
    "    return sig_array\n",
    "def sigmoidGradient(z):\n",
    "    sigg_array=np.zeros(z.shape)\n",
    "    sigg_array=sigmoid(z)*(1-sigmoid(z))\n",
    "    return sigg_array\n",
    "\"\"\"\n",
    "z = np.array([-1, -0.5, 0, 0.5, 1])\n",
    "g = sigmoidGradient(z)\n",
    "print('Sigmoid gradient evaluated at [-1 -0.5 0 0.5 1]:\\n  ')\n",
    "print(g)\n",
    "\"\"\"\n",
    "def costFunction(nn_params,input_layer_size,hidden_layer_size,num_labels,X,y,lambda_=0.0):\n",
    "    theta1=np.reshape(nn_params[:hidden_layer_size*(input_layer_size+1)],(hidden_layer_size,(input_layer_size+1)))\n",
    "    theta2=np.reshape(nn_params[hidden_layer_size*(input_layer_size+1):],(num_labels,(hidden_layer_size+1)))\n",
    "    m=y.size\n",
    "    #print(theta1.shape)\n",
    "    #print(theta2.shape)\n",
    "    J=0\n",
    "    theta1_grad=np.zeros(theta1.shape)\n",
    "    theta2_grad=np.zeros(theta2.shape)\n",
    "    a1=np.concatenate((np.ones((m,1)),X),axis=1)\n",
    "    #print(a1.shape)\n",
    "    a2=sigmoid(np.dot(a1,theta1.T))\n",
    "    a2=np.concatenate((np.ones((a2.shape[0],1)),a2),axis=1)\n",
    "    #print(a2.shape)\n",
    "    a3=sigmoid(np.dot(a2,theta2.T))\n",
    "    #print(a3.shape)\n",
    "    #a3 is 5000* 10 matrix for each row(example) we have to multiply with actual res which will be k-dim array and only true class will contain value=1\n",
    "    #np.eye(k)[label]  of k column, label selects which elements of that row==1 row number decided by no of elements in label\n",
    "    y_matrix=y.reshape(-1)#vector of x, since we have done ravel for y, it is not required\n",
    "    y_matrix=np.eye(num_labels)[y_matrix]\n",
    "    temp1=theta1\n",
    "    temp2=theta2\n",
    "    cost_regterm=((lambda_)/(2*m))*(np.sum(np.square(temp1[:,1:]))+np.sum(np.square(temp2[:,1:])))\n",
    "    #element wise multiplication. No transpose needed\n",
    "    J=(-1/m)*np.sum((np.log(a3)*y_matrix)+np.log(1-a3)*(1-y_matrix))+ cost_regterm\n",
    "    delta_3=a3-y_matrix\n",
    "    #print(delta_3.shape)\n",
    "    #we dont find delta2 w.rt to bias unit and hecne will start from column1\n",
    "    delta_2=delta_3.dot(theta2)[:,1:]*sigmoidGradient(a1.dot(theta1.T))\n",
    "    #print(delta_2.shape)\n",
    "    Delta1=delta_2.T.dot(a1)\n",
    "    Delta2=delta_3.T.dot(a2)\n",
    "    theta1_grad=(1/m)*Delta1\n",
    "    theta2_grad=(1/m)*Delta2\n",
    "    theta1_grad[:,1:]=theta1_grad[:,1:]+(lambda_/m)*theta1[:,1:]\n",
    "    theta2_grad[:,1:]=theta2_grad[:,1:]+(lambda_/m)*theta2[:,1:]\n",
    "    grad=np.concatenate((theta1_grad.ravel(),theta2_grad.ravel()))\n",
    "    return J,grad\n",
    "lambda_=0\n",
    "cost,grad=costFunction(np_params,input_layer_size,hidden_layer_size,num_labels,X,y,3)\n",
    "print(\"cost : \",cost)\n",
    "print(grad.shape)\n",
    "print(\"gradient for thetas: \",grad)\n",
    "#if Weights initialisation are very high then while calculation delta in backpropogation, multiplying will increase result exponentially or vice versa\n",
    "#use Xavier initialisation mean of activation =0, variance of activation should stay almost same \n",
    "#def initialize_parameters_he(layers_dims):\n"
   ]
  },
  {
   "cell_type": "code",
   "execution_count": 49,
   "metadata": {},
   "outputs": [
    {
     "name": "stdout",
     "output_type": "stream",
     "text": [
      "Initializing Neural Network Parameters ...\n"
     ]
    }
   ],
   "source": [
    "\"\"\"\n",
    "    Arguments:\n",
    "    layer_dims -- python array (list) containing the size of each layer.\n",
    "    \n",
    "    Returns:\n",
    "    parameters -- python dictionary containing your parameters \"W1\", \"b1\", ..., \"WL\", \"bL\":\n",
    "                    W1 -- weight matrix of shape (layers_dims[1], layers_dims[0])\n",
    "                    b1 -- bias vector of shape (layers_dims[1], 1)\n",
    "                    ...\n",
    "                    WL -- weight matrix of shape (layers_dims[L], layers_dims[L-1])\n",
    "                    bL -- bias vector of shape (layers_dims[L], 1)\n",
    "    \n",
    "    \n",
    "    np.random.seed(3)\n",
    "    parameters = {}\n",
    "    L = len(layers_dims) - 1 # integer representing the number of layers\n",
    "     \n",
    "    for l in range(1, L + 1):\n",
    "        ### START CODE HERE ### (≈ 2 lines of code)\n",
    "        parameters['W' + str(l)] = np.random.randn(layers_dims[l], layers_dims[l-1]) * np.sqrt(2/layers_dims[l-1])\n",
    "        parameters['b' + str(l)] = np.zeros((layers_dims[l], 1)) \n",
    "        ### END CODE HERE ###\n",
    "        \n",
    "    return parameters\n",
    "    parameters = initialize_parameters_random([3, 2, 1])\n",
    "print(\"W1 = \" + str(parameters[\"W1\"]))\n",
    "print(\"b1 = \" + str(parameters[\"b1\"]))\n",
    "print(\"W2 = \" + str(parameters[\"W2\"]))\n",
    "print(\"b2 = \" + str(parameters[\"b2\"]))\n",
    "    def randInitializeWeights(L_in,L_out,epsilon_init=0.12):\n",
    "    W=np.zeros((L_out,1+L_in))\n",
    "    W=np.random.rand(L_out,1+L_in)*2*epsilon_init-epsilon_init\n",
    "    return W\n",
    "print(\"Initializing theta parameters: \")\n",
    "initial_theta1=randInitializeWeights(input_layer_size,hidden_layer_size)\n",
    "initial_theta1=randInitializeWeights(hidden_layer_size,num_labels)\n",
    "\"\"\"\n",
    "\n",
    "#Initialization of parameters\n",
    "#relu= (W[l],W[l-1])*sqrt(2/n[l-1])-relu xavier mein 1/n[l-1] or use 2/n[l-1]+n[L]\n",
    "#basic using initialization in andrew ng\n",
    "\n",
    "def randInitializeWeights(L_in,L_out,epsilon_init=0.12):\n",
    "    W=np.zeros((L_out,L_in+1))\n",
    "    #dimensions in random.randn\n",
    "    W=np.random.randn(L_out,L_in+1)*2*epsilon_init-epsilon_init\n",
    "    #W=np.random.randn(L_out,L_in+1)*np.sqrt(2/(L_out+L_in))\n",
    "    return W\n",
    "print('Initializing Neural Network Parameters ...')\n",
    "\n",
    "initial_Theta1 = randInitializeWeights(input_layer_size, hidden_layer_size)\n",
    "initial_Theta2 = randInitializeWeights(hidden_layer_size, num_labels)\n",
    "\n",
    "# Unroll parameters\n",
    "initial_nn_params = np.concatenate([initial_Theta1.ravel(), initial_Theta2.ravel()], axis=0)\n",
    "\n"
   ]
  },
  {
   "cell_type": "code",
   "execution_count": 50,
   "metadata": {},
   "outputs": [],
   "source": [
    "#Gradient Checking\n",
    "#again you have to implement it from starting\n",
    "#left for future\n"
   ]
  },
  {
   "cell_type": "code",
   "execution_count": 51,
   "metadata": {
    "scrolled": false
   },
   "outputs": [
    {
     "name": "stdout",
     "output_type": "stream",
     "text": [
      "[[-0.38635475  0.12965898 -0.07614061 ... -0.2367378   0.29112024\n",
      "   0.3726053 ]\n",
      " [-0.02619918 -0.09193459 -0.38453113 ... -0.06765183 -0.29500528\n",
      "   0.01450307]\n",
      " [ 0.63968717  0.04894513 -0.11311462 ...  0.09753409  0.20034351\n",
      "  -0.25408874]\n",
      " ...\n",
      " [ 0.26749804  0.08209611  0.05643026 ... -0.09849583  0.21491489\n",
      "  -0.04013558]\n",
      " [-0.31433061 -0.21932181 -0.15382136 ... -0.21822292 -0.13626195\n",
      "  -0.15002946]\n",
      " [-0.00270937 -0.05797095 -0.29005441 ... -0.39164038 -0.29712126\n",
      "  -0.00540201]]\n",
      "[[ 2.78202695e+00 -3.27935122e-01 -5.79795789e-01 -2.91371578e+00\n",
      "   1.44846067e+00 -4.10599581e-02 -4.91727169e-01 -5.17139041e-01\n",
      "  -3.77313141e-01  5.52804008e-02 -1.60094143e-01 -1.01047032e-01\n",
      "  -4.52406888e-01  1.87520556e-02 -5.52284077e-01 -6.60786225e+00\n",
      "  -2.87799805e-01 -6.04260572e-02 -3.20580044e+00 -9.95067284e-01\n",
      "  -2.34778469e+00 -4.15615409e+00 -6.20375780e-01 -9.21406689e-01\n",
      "  -4.01463897e+00 -2.62359786e-01]\n",
      " [-1.19857595e+01  5.56491764e-01  2.47167578e+00 -5.45036937e-01\n",
      "   7.63303333e-01  9.43241381e-01  1.32824107e-01  1.83411811e+00\n",
      "   2.73485248e+00  1.21502656e-01  1.20841900e+00  1.43982171e-01\n",
      "   6.54459708e-01  4.68760376e-01  9.14117697e-01  1.30475545e+00\n",
      "  -1.49741291e-01 -9.06224147e-02 -6.80091373e-01  5.38044816e+00\n",
      "   1.24861452e+00  1.88483901e+00  1.06504793e+00  1.13355671e-01\n",
      "   3.18249738e+00  7.39326537e-01]\n",
      " [-1.15872378e+00 -9.11664745e-02 -9.28692318e-01  8.67853540e-01\n",
      "  -3.59580523e+00  6.96059514e-01  2.43406648e-02 -1.21664458e-01\n",
      "  -5.47582048e-01 -3.71275054e-01  3.61817089e-01 -1.08382492e-01\n",
      "  -1.47592450e+00 -2.08611271e-01  3.36145214e-01 -1.20426765e+00\n",
      "   5.74708217e-02  1.90212551e-02 -1.01165358e+00 -3.85404569e-01\n",
      "  -5.87889502e+00 -3.34323378e+00 -1.27390214e+00  1.15652928e+00\n",
      "   4.02754492e+00 -5.96113080e-01]\n",
      " [-3.35544458e+00  7.47326757e-02 -2.14707433e-01 -1.70251306e+00\n",
      "  -1.77837283e+00 -1.12899512e+00  4.29425261e-03 -8.51635443e-01\n",
      "  -1.13359672e-01 -2.05279404e-01 -4.04843728e-01  1.51430568e-01\n",
      "  -3.04217655e+00  2.07531282e-01 -6.71691307e-01  4.55877084e+00\n",
      "  -2.45768466e-01 -2.95560896e-01 -2.00377780e+00 -1.12860649e+00\n",
      "  -3.57118064e+00 -2.39427386e+00  4.34022854e+00 -1.13457616e+00\n",
      "  -1.31503322e+00 -1.51396552e-01]\n",
      " [-6.08360729e+00 -2.61185178e-01 -6.02073642e-01 -1.33837204e+00\n",
      "  -3.43696633e-01 -5.76925728e-01  8.64100031e-02  1.16081168e-01\n",
      "  -8.36446763e-02 -1.96731172e-01  1.11507810e-01 -2.82375157e-01\n",
      "  -2.25512685e-01  1.84896987e-01  5.21118912e-01 -5.57607281e-01\n",
      "   6.52040790e-02  5.32816130e-02  7.68052124e+00 -1.04128197e-01\n",
      "  -5.43387003e-01  2.94469387e+00  3.52992503e-01  7.48657694e-01\n",
      "  -3.66124494e+00  8.62480347e-03]\n",
      " [-5.75967925e+00  1.97936478e-01 -9.48658013e-01 -2.39762322e+00\n",
      "   3.43980577e+00 -8.51982613e-01  1.16948834e-01 -5.88130092e-01\n",
      "  -2.89754409e-01  3.35815207e-02 -1.43525158e+00 -1.38341518e-01\n",
      "   3.38209331e+00 -1.47564431e-01 -1.20820915e-01  4.35047061e+00\n",
      "  -9.08467380e-02  1.76301120e-01 -4.44476998e-01 -1.97831789e+00\n",
      "   2.61173105e+00 -3.90791695e+00 -7.68580948e-01  1.02561778e+00\n",
      "  -8.10264140e-01 -3.25955910e-02]\n",
      " [-5.52830113e+00  2.29126741e-02 -2.84584718e-01  2.51086735e+00\n",
      "   8.74073141e-02  9.18418063e-02  8.16061133e-02  2.10182711e-01\n",
      "  -3.48115841e-01 -2.11913909e-01 -1.58350196e+00 -1.90104329e-01\n",
      "  -2.18199196e-01  1.10079436e-01 -1.88142088e-01 -1.15386559e+00\n",
      "   5.68695555e-02 -9.68642425e-02  3.34449153e+00 -2.83284318e-01\n",
      "   4.60723407e+00 -5.35418526e+00 -1.00159836e+00 -8.56637024e-01\n",
      "   1.52108717e+00 -4.91148119e-01]\n",
      " [-6.35076468e+00 -1.27544425e-01 -5.53774151e-01  4.98181389e+00\n",
      "   1.78069429e+00 -7.10858248e-01 -1.15765476e-01  1.11495933e-02\n",
      "  -4.90409737e-01 -2.79329722e-01 -1.84433972e-02  4.78882487e-01\n",
      "   3.24818473e-01 -4.46541953e-02 -3.52118932e-01 -1.76378227e+00\n",
      "   2.83664051e-02  2.21839930e-01 -1.88976030e+00 -1.09791585e+00\n",
      "  -3.25089337e+00  4.94182177e+00  2.15890249e+00 -2.23863506e-01\n",
      "  -1.87346846e+00  8.06476268e-03]\n",
      " [-5.65024553e-01 -7.17676347e-01 -1.03988699e+00 -1.81728025e+00\n",
      "  -1.68228898e+00  2.66925479e-01 -1.58164891e-01 -1.64526532e-01\n",
      "  -3.68029017e-01  7.24418078e-02 -2.31629259e+00 -5.84872533e-01\n",
      "  -1.80127988e+00 -3.26131951e-01 -1.90206885e-01  2.02584946e+00\n",
      "  -2.79897195e-01 -2.26728997e-01 -1.89206058e+00 -1.45473081e+00\n",
      "  -1.14929039e+00  3.52352420e+00 -5.14641137e+00 -1.58913394e+00\n",
      "  -1.72334220e+00 -5.73038170e-01]\n",
      " [-7.75259242e+00  3.18982022e-03 -3.57033700e-01 -1.61611160e+00\n",
      "  -1.58216766e+00 -3.89755037e-01 -2.08796619e-01 -3.80768957e-01\n",
      "  -7.14036666e-02  2.68286691e-01  6.85429634e-01 -4.84105014e-01\n",
      "   5.64971154e-01 -2.54028029e-01 -6.60762923e-02 -4.64344961e-01\n",
      "  -2.78742555e-01 -3.38582578e-01 -5.59925745e+00 -9.97379130e-01\n",
      "   5.46981392e+00  3.73450721e+00  1.96852708e+00  7.99160095e-01\n",
      "  -1.14552611e+00  3.79043367e-02]]\n",
      "Training set accuracy for lambda=1:  92.36\n"
     ]
    }
   ],
   "source": [
    "#learning parameters with help of scipy.optimize\n",
    "options={'maxiter':100}\n",
    "lambda_=1\n",
    "costFunc=lambda p: costFunction(p,input_layer_size,hidden_layer_size,num_labels,X,y,lambda_)\n",
    "res=optimize.minimize(costFunc,initial_nn_params,jac=True,method='TNC',options=options)\n",
    "nn_params=res.x\n",
    "Theta1 = np.reshape(nn_params[:hidden_layer_size * (input_layer_size + 1)],\n",
    "                    (hidden_layer_size, (input_layer_size + 1)))\n",
    "\n",
    "Theta2 = np.reshape(nn_params[(hidden_layer_size * (input_layer_size + 1)):],\n",
    "                    (num_labels, (hidden_layer_size + 1)))\n",
    "print(Theta1)\n",
    "print(Theta2)\n",
    "def predict(theta1,theta2,X):\n",
    "    m=X.shape[0]\n",
    "    num_labels=theta2.shape[0]\n",
    "    p=np.zeros((m,1))\n",
    "    X=np.concatenate([np.ones((m,1)),X],axis=1)\n",
    "    a2=sigmoid(np.dot(X,theta1.T))\n",
    "    a2=np.concatenate((np.ones((a2.shape[0],1)),a2),axis=1)\n",
    "    p=np.argmax(sigmoid(np.dot(a2,theta2.T)),axis=1)\n",
    "    return p\n",
    "pred=predict(Theta1,Theta2,X)\n",
    "print(\"Training set accuracy for lambda=1: \",np.mean(pred==y)*100)"
   ]
  },
  {
   "cell_type": "code",
   "execution_count": null,
   "metadata": {},
   "outputs": [],
   "source": []
  },
  {
   "cell_type": "code",
   "execution_count": null,
   "metadata": {},
   "outputs": [],
   "source": []
  },
  {
   "cell_type": "code",
   "execution_count": null,
   "metadata": {},
   "outputs": [],
   "source": []
  },
  {
   "cell_type": "code",
   "execution_count": null,
   "metadata": {},
   "outputs": [],
   "source": []
  },
  {
   "cell_type": "code",
   "execution_count": null,
   "metadata": {},
   "outputs": [],
   "source": []
  },
  {
   "cell_type": "code",
   "execution_count": null,
   "metadata": {},
   "outputs": [],
   "source": []
  }
 ],
 "metadata": {
  "kernelspec": {
   "display_name": "Python 3",
   "language": "python",
   "name": "python3"
  },
  "language_info": {
   "codemirror_mode": {
    "name": "ipython",
    "version": 3
   },
   "file_extension": ".py",
   "mimetype": "text/x-python",
   "name": "python",
   "nbconvert_exporter": "python",
   "pygments_lexer": "ipython3",
   "version": "3.7.6"
  }
 },
 "nbformat": 4,
 "nbformat_minor": 4
}
