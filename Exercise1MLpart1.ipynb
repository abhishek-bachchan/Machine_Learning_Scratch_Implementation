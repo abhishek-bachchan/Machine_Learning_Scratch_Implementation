{
 "cells": [
  {
   "cell_type": "code",
   "execution_count": 2,
   "metadata": {},
   "outputs": [],
   "source": [
    "import os\n",
    "import numpy as np\n",
    "from matplotlib import pyplot\n",
    "from mpl_toolkits.mplot3d import Axes3D\n",
    "%matplotlib inline\n"
   ]
  },
  {
   "cell_type": "code",
   "execution_count": 3,
   "metadata": {},
   "outputs": [],
   "source": [
    "def warmUp():\n",
    "    A=np.eye(5)\n",
    "    print(A)\n",
    "    return A"
   ]
  },
  {
   "cell_type": "code",
   "execution_count": 4,
   "metadata": {},
   "outputs": [
    {
     "name": "stdout",
     "output_type": "stream",
     "text": [
      "[[1. 0. 0. 0. 0.]\n",
      " [0. 1. 0. 0. 0.]\n",
      " [0. 0. 1. 0. 0.]\n",
      " [0. 0. 0. 1. 0.]\n",
      " [0. 0. 0. 0. 1.]]\n"
     ]
    },
    {
     "data": {
      "text/plain": [
       "array([[1., 0., 0., 0., 0.],\n",
       "       [0., 1., 0., 0., 0.],\n",
       "       [0., 0., 1., 0., 0.],\n",
       "       [0., 0., 0., 1., 0.],\n",
       "       [0., 0., 0., 0., 1.]])"
      ]
     },
     "execution_count": 4,
     "metadata": {},
     "output_type": "execute_result"
    }
   ],
   "source": [
    "warmUp()"
   ]
  },
  {
   "cell_type": "code",
   "execution_count": 103,
   "metadata": {},
   "outputs": [],
   "source": [
    "data = np.loadtxt('ex1data1.txt', delimiter=',')"
   ]
  },
  {
   "cell_type": "code",
   "execution_count": 104,
   "metadata": {},
   "outputs": [
    {
     "data": {
      "text/plain": [
       "array([[ 6.1101 , 17.592  ],\n",
       "       [ 5.5277 ,  9.1302 ],\n",
       "       [ 8.5186 , 13.662  ],\n",
       "       [ 7.0032 , 11.854  ],\n",
       "       [ 5.8598 ,  6.8233 ],\n",
       "       [ 8.3829 , 11.886  ],\n",
       "       [ 7.4764 ,  4.3483 ],\n",
       "       [ 8.5781 , 12.     ],\n",
       "       [ 6.4862 ,  6.5987 ],\n",
       "       [ 5.0546 ,  3.8166 ],\n",
       "       [ 5.7107 ,  3.2522 ],\n",
       "       [14.164  , 15.505  ],\n",
       "       [ 5.734  ,  3.1551 ],\n",
       "       [ 8.4084 ,  7.2258 ],\n",
       "       [ 5.6407 ,  0.71618],\n",
       "       [ 5.3794 ,  3.5129 ],\n",
       "       [ 6.3654 ,  5.3048 ],\n",
       "       [ 5.1301 ,  0.56077],\n",
       "       [ 6.4296 ,  3.6518 ],\n",
       "       [ 7.0708 ,  5.3893 ],\n",
       "       [ 6.1891 ,  3.1386 ],\n",
       "       [20.27   , 21.767  ],\n",
       "       [ 5.4901 ,  4.263  ],\n",
       "       [ 6.3261 ,  5.1875 ],\n",
       "       [ 5.5649 ,  3.0825 ],\n",
       "       [18.945  , 22.638  ],\n",
       "       [12.828  , 13.501  ],\n",
       "       [10.957  ,  7.0467 ],\n",
       "       [13.176  , 14.692  ],\n",
       "       [22.203  , 24.147  ],\n",
       "       [ 5.2524 , -1.22   ],\n",
       "       [ 6.5894 ,  5.9966 ],\n",
       "       [ 9.2482 , 12.134  ],\n",
       "       [ 5.8918 ,  1.8495 ],\n",
       "       [ 8.2111 ,  6.5426 ],\n",
       "       [ 7.9334 ,  4.5623 ],\n",
       "       [ 8.0959 ,  4.1164 ],\n",
       "       [ 5.6063 ,  3.3928 ],\n",
       "       [12.836  , 10.117  ],\n",
       "       [ 6.3534 ,  5.4974 ],\n",
       "       [ 5.4069 ,  0.55657],\n",
       "       [ 6.8825 ,  3.9115 ],\n",
       "       [11.708  ,  5.3854 ],\n",
       "       [ 5.7737 ,  2.4406 ],\n",
       "       [ 7.8247 ,  6.7318 ],\n",
       "       [ 7.0931 ,  1.0463 ],\n",
       "       [ 5.0702 ,  5.1337 ],\n",
       "       [ 5.8014 ,  1.844  ],\n",
       "       [11.7    ,  8.0043 ],\n",
       "       [ 5.5416 ,  1.0179 ],\n",
       "       [ 7.5402 ,  6.7504 ],\n",
       "       [ 5.3077 ,  1.8396 ],\n",
       "       [ 7.4239 ,  4.2885 ],\n",
       "       [ 7.6031 ,  4.9981 ],\n",
       "       [ 6.3328 ,  1.4233 ],\n",
       "       [ 6.3589 , -1.4211 ],\n",
       "       [ 6.2742 ,  2.4756 ],\n",
       "       [ 5.6397 ,  4.6042 ],\n",
       "       [ 9.3102 ,  3.9624 ],\n",
       "       [ 9.4536 ,  5.4141 ],\n",
       "       [ 8.8254 ,  5.1694 ],\n",
       "       [ 5.1793 , -0.74279],\n",
       "       [21.279  , 17.929  ],\n",
       "       [14.908  , 12.054  ],\n",
       "       [18.959  , 17.054  ],\n",
       "       [ 7.2182 ,  4.8852 ],\n",
       "       [ 8.2951 ,  5.7442 ],\n",
       "       [10.236  ,  7.7754 ],\n",
       "       [ 5.4994 ,  1.0173 ],\n",
       "       [20.341  , 20.992  ],\n",
       "       [10.136  ,  6.6799 ],\n",
       "       [ 7.3345 ,  4.0259 ],\n",
       "       [ 6.0062 ,  1.2784 ],\n",
       "       [ 7.2259 ,  3.3411 ],\n",
       "       [ 5.0269 , -2.6807 ],\n",
       "       [ 6.5479 ,  0.29678],\n",
       "       [ 7.5386 ,  3.8845 ],\n",
       "       [ 5.0365 ,  5.7014 ],\n",
       "       [10.274  ,  6.7526 ],\n",
       "       [ 5.1077 ,  2.0576 ],\n",
       "       [ 5.7292 ,  0.47953],\n",
       "       [ 5.1884 ,  0.20421],\n",
       "       [ 6.3557 ,  0.67861],\n",
       "       [ 9.7687 ,  7.5435 ],\n",
       "       [ 6.5159 ,  5.3436 ],\n",
       "       [ 8.5172 ,  4.2415 ],\n",
       "       [ 9.1802 ,  6.7981 ],\n",
       "       [ 6.002  ,  0.92695],\n",
       "       [ 5.5204 ,  0.152  ],\n",
       "       [ 5.0594 ,  2.8214 ],\n",
       "       [ 5.7077 ,  1.8451 ],\n",
       "       [ 7.6366 ,  4.2959 ],\n",
       "       [ 5.8707 ,  7.2029 ],\n",
       "       [ 5.3054 ,  1.9869 ],\n",
       "       [ 8.2934 ,  0.14454],\n",
       "       [13.394  ,  9.0551 ],\n",
       "       [ 5.4369 ,  0.61705]])"
      ]
     },
     "execution_count": 104,
     "metadata": {},
     "output_type": "execute_result"
    }
   ],
   "source": [
    "data\n"
   ]
  },
  {
   "cell_type": "code",
   "execution_count": 105,
   "metadata": {},
   "outputs": [],
   "source": [
    "X=data[:,0]\n",
    "y=data[:,1]"
   ]
  },
  {
   "cell_type": "code",
   "execution_count": 106,
   "metadata": {},
   "outputs": [],
   "source": [
    "m=y.size"
   ]
  },
  {
   "cell_type": "code",
   "execution_count": 107,
   "metadata": {},
   "outputs": [],
   "source": [
    "def plotData(x,y):\n",
    "    fig=pyplot.figure()\n",
    "    pyplot.plot(x,y,'ro',ms=10,mec='k')\n",
    "    pyplot.xlabel('profit in $10000')\n",
    "    pyplot.ylabel('population of cities in 10,000s')"
   ]
  },
  {
   "cell_type": "code",
   "execution_count": 108,
   "metadata": {},
   "outputs": [
    {
     "data": {
      "image/png": "[encoded data removed]",
      "text/plain": [
       "<Figure size 432x288 with 1 Axes>"
      ]
     },
     "metadata": {
      "needs_background": "light"
     },
     "output_type": "display_data"
    }
   ],
   "source": [
    "plotData(X,y)"
   ]
  },
  {
   "cell_type": "code",
   "execution_count": 109,
   "metadata": {
    "scrolled": true
   },
   "outputs": [],
   "source": [
    "X1=np.stack([np.ones(m),X],axis=0)\n",
    "X2=np.stack([np.ones(m),X],axis=1)\n",
    "#X3=np.stack([np.ones(m),X],axis=2)"
   ]
  },
  {
   "cell_type": "code",
   "execution_count": 110,
   "metadata": {},
   "outputs": [],
   "source": [
    "X=X2\n",
    "def computeCost(X,y,theta):\n",
    "    m=y.size\n",
    "    J=0\n",
    "    h=np.dot(X,theta)\n",
    "    J=(1/(2*m))*np.sum(np.square(np.dot(X,theta)-y))\n",
    "    return J"
   ]
  },
  {
   "cell_type": "code",
   "execution_count": 111,
   "metadata": {},
   "outputs": [
    {
     "name": "stdout",
     "output_type": "stream",
     "text": [
      "with theta = [0,0]:  32.072733877455676\n",
      "Expected cost value approx : 32.07\n",
      "with theta = [0,0]: cost computed  54.24245508201238\n",
      "Expected cost value approx : 54.24\n"
     ]
    }
   ],
   "source": [
    "J=computeCost(X,y,theta=np.array([0.0,0.0]))\n",
    "print(\"with theta = [0,0]: \", J)\n",
    "print('Expected cost value approx : 32.07')\n",
    "J=computeCost(X,y,theta=np.array([-1,2]))\n",
    "print(\"with theta = [0,0]: cost computed \", J)\n",
    "print('Expected cost value approx : 54.24')\n"
   ]
  },
  {
   "cell_type": "code",
   "execution_count": 112,
   "metadata": {},
   "outputs": [],
   "source": [
    "def gradDescent(X,y,theta,alpha,num_iters):\n",
    "    m=y.size\n",
    "    J_history=[]\n",
    "    theta=theta.copy()\n",
    "    for i in range(num_iters):\n",
    "        theta=theta-(alpha/m)*(np.dot(X,theta)-y).dot(X)\n",
    "        J_history.append(computeCost(X,y,theta))\n",
    "    return theta, J_history"
   ]
  },
  {
   "cell_type": "code",
   "execution_count": 113,
   "metadata": {},
   "outputs": [
    {
     "name": "stdout",
     "output_type": "stream",
     "text": [
      "theta final after various iterations  [-3.63029144  1.16636235]\n"
     ]
    }
   ],
   "source": [
    "theta=np.zeros(2)\n",
    "iterations=1500\n",
    "alpha=0.01\n",
    "theta, J_history=gradDescent(X,y,theta,alpha,iterations)\n",
    "print(\"theta final after various iterations \", theta)"
   ]
  },
  {
   "cell_type": "code",
   "execution_count": 114,
   "metadata": {
    "scrolled": true
   },
   "outputs": [
    {
     "data": {
      "text/plain": [
       "<matplotlib.legend.Legend at 0x27433743b88>"
      ]
     },
     "execution_count": 114,
     "metadata": {},
     "output_type": "execute_result"
    },
    {
     "data": {
      "image/png": "[encoded data removed]",
      "text/plain": [
       "<Figure size 432x288 with 1 Axes>"
      ]
     },
     "metadata": {
      "needs_background": "light"
     },
     "output_type": "display_data"
    }
   ],
   "source": [
    "plotData(X[:,1],y)\n",
    "pyplot.plot(X[:,1],np.dot(X,theta),'-')\n",
    "pyplot.legend(['training data ', 'Linear regression'])"
   ]
  },
  {
   "cell_type": "code",
   "execution_count": 115,
   "metadata": {},
   "outputs": [
    {
     "name": "stdout",
     "output_type": "stream",
     "text": [
      "for population 35000, profit estimated:  4519.7678677017675\n",
      "for population 70000, profit estimated:  45342.45012944714\n"
     ]
    }
   ],
   "source": [
    "predict1=np.dot([1,3.5],theta)\n",
    "print('for population 35000, profit estimated: ',predict1*10000)\n",
    "predict1=np.dot([1,7],theta)\n",
    "print('for population 70000, profit estimated: ',predict1*10000)\n"
   ]
  },
  {
   "cell_type": "code",
   "execution_count": 127,
   "metadata": {},
   "outputs": [
    {
     "name": "stdout",
     "output_type": "stream",
     "text": [
      "[[ 1.      6.1101]\n",
      " [ 1.      5.5277]\n",
      " [ 1.      8.5186]\n",
      " [ 1.      7.0032]\n",
      " [ 1.      5.8598]\n",
      " [ 1.      8.3829]\n",
      " [ 1.      7.4764]\n",
      " [ 1.      8.5781]\n",
      " [ 1.      6.4862]\n",
      " [ 1.      5.0546]\n",
      " [ 1.      5.7107]\n",
      " [ 1.     14.164 ]\n",
      " [ 1.      5.734 ]\n",
      " [ 1.      8.4084]\n",
      " [ 1.      5.6407]\n",
      " [ 1.      5.3794]\n",
      " [ 1.      6.3654]\n",
      " [ 1.      5.1301]\n",
      " [ 1.      6.4296]\n",
      " [ 1.      7.0708]\n",
      " [ 1.      6.1891]\n",
      " [ 1.     20.27  ]\n",
      " [ 1.      5.4901]\n",
      " [ 1.      6.3261]\n",
      " [ 1.      5.5649]\n",
      " [ 1.     18.945 ]\n",
      " [ 1.     12.828 ]\n",
      " [ 1.     10.957 ]\n",
      " [ 1.     13.176 ]\n",
      " [ 1.     22.203 ]\n",
      " [ 1.      5.2524]\n",
      " [ 1.      6.5894]\n",
      " [ 1.      9.2482]\n",
      " [ 1.      5.8918]\n",
      " [ 1.      8.2111]\n",
      " [ 1.      7.9334]\n",
      " [ 1.      8.0959]\n",
      " [ 1.      5.6063]\n",
      " [ 1.     12.836 ]\n",
      " [ 1.      6.3534]\n",
      " [ 1.      5.4069]\n",
      " [ 1.      6.8825]\n",
      " [ 1.     11.708 ]\n",
      " [ 1.      5.7737]\n",
      " [ 1.      7.8247]\n",
      " [ 1.      7.0931]\n",
      " [ 1.      5.0702]\n",
      " [ 1.      5.8014]\n",
      " [ 1.     11.7   ]\n",
      " [ 1.      5.5416]\n",
      " [ 1.      7.5402]\n",
      " [ 1.      5.3077]\n",
      " [ 1.      7.4239]\n",
      " [ 1.      7.6031]\n",
      " [ 1.      6.3328]\n",
      " [ 1.      6.3589]\n",
      " [ 1.      6.2742]\n",
      " [ 1.      5.6397]\n",
      " [ 1.      9.3102]\n",
      " [ 1.      9.4536]\n",
      " [ 1.      8.8254]\n",
      " [ 1.      5.1793]\n",
      " [ 1.     21.279 ]\n",
      " [ 1.     14.908 ]\n",
      " [ 1.     18.959 ]\n",
      " [ 1.      7.2182]\n",
      " [ 1.      8.2951]\n",
      " [ 1.     10.236 ]\n",
      " [ 1.      5.4994]\n",
      " [ 1.     20.341 ]\n",
      " [ 1.     10.136 ]\n",
      " [ 1.      7.3345]\n",
      " [ 1.      6.0062]\n",
      " [ 1.      7.2259]\n",
      " [ 1.      5.0269]\n",
      " [ 1.      6.5479]\n",
      " [ 1.      7.5386]\n",
      " [ 1.      5.0365]\n",
      " [ 1.     10.274 ]\n",
      " [ 1.      5.1077]\n",
      " [ 1.      5.7292]\n",
      " [ 1.      5.1884]\n",
      " [ 1.      6.3557]\n",
      " [ 1.      9.7687]\n",
      " [ 1.      6.5159]\n",
      " [ 1.      8.5172]\n",
      " [ 1.      9.1802]\n",
      " [ 1.      6.002 ]\n",
      " [ 1.      5.5204]\n",
      " [ 1.      5.0594]\n",
      " [ 1.      5.7077]\n",
      " [ 1.      7.6366]\n",
      " [ 1.      5.8707]\n",
      " [ 1.      5.3054]\n",
      " [ 1.      8.2934]\n",
      " [ 1.     13.394 ]\n",
      " [ 1.      5.4369]]\n",
      "(2,)\n",
      "(97, 2)\n",
      "(2,)\n",
      "[-3.63029144  1.16636235]\n",
      "value of theta array :  [-3.63029144  1.16636235]\n",
      "for population 35000, profit estimated:  4519.7678677017675\n",
      "for population 70000, profit estimated:  45342.45012944714\n"
     ]
    },
    {
     "data": {
      "image/png": "[encoded data removed]",
      "text/plain": [
       "<Figure size 432x288 with 1 Axes>"
      ]
     },
     "metadata": {
      "needs_background": "light"
     },
     "output_type": "display_data"
    },
    {
     "data": {
      "image/png": "[encoded data removed]",
      "text/plain": [
       "<Figure size 432x288 with 1 Axes>"
      ]
     },
     "metadata": {
      "needs_background": "light"
     },
     "output_type": "display_data"
    }
   ],
   "source": [
    "datar=np.loadtxt('ex1data1.txt',delimiter=',')\n",
    "Xr=datar[:,0]\n",
    "yr=datar[:,1]\n",
    "m1=yr.size\n",
    "plotData(Xr,yr)\n",
    "Xr=np.stack((np.ones(m1),Xr),axis=1)\n",
    "print(Xr)\n",
    "def costFuncr(Xr,yr,thetar):\n",
    "    J=0\n",
    "    mr=yr.size\n",
    "    J=(1/(2*mr))*(np.sum(np.square(np.dot(Xr,thetar)-yr)))\n",
    "    return J\n",
    "def gradDescentr(Xr,yr,thetar,alpha,num_iters):\n",
    "    J_history=[]\n",
    "    mr=yr.size\n",
    "    print(Xr.shape)\n",
    "    print(thetar.shape)\n",
    "    for i in range(num_iters):\n",
    "        thetar-=(alpha/m)*(np.dot(Xr,thetar)-yr).dot(Xr)\n",
    "        J_history.append(costFuncr(Xr,yr,thetar))\n",
    "    print(thetar)\n",
    "    return  J_history\n",
    "thetar=np.zeros(2)\n",
    "print(thetar.shape)\n",
    "iterationr=1500\n",
    "alphar=0.01\n",
    "J_history = gradDescentr(Xr,yr,thetar,alphar,iterationr)\n",
    "print(\"value of theta array : \",thetar)\n",
    "\n",
    "plotData(X[:,1],y)\n",
    "pyplot.plot(X[:,1],np.dot(X,theta),'-')\n",
    "pyplot.legend(['training data ', 'Linear regression'])\n",
    "predict1=np.dot([1,3.5],theta)\n",
    "print('for population 35000, profit estimated: ',predict1*10000)\n",
    "predict1=np.dot([1,7],theta)\n",
    "print('for population 70000, profit estimated: ',predict1*10000)\n",
    "\n",
    "    "
   ]
  },
  {
   "cell_type": "code",
   "execution_count": null,
   "metadata": {},
   "outputs": [],
   "source": [
    "#theta0_vals=np.linspace(-10,10,100)\n",
    "#theta1_vals=np.linspace(-1,4,100)\n",
    "#J_vals=np.zeros((theta0_vals.shape[0],theta1_vals.shape[0]))\n",
    "#for i,theta0 in enumerate(theta0_vals):\n",
    " #   for j,theta1 in enumerate(theta1_vals):\n",
    "  #      j_vals[i,j]=costFuncr(Xr,yr,[theta0,theta1])\n",
    "#Learn surface plots and Contour plots\n",
    "#check about representation [theta0,theta1]"
   ]
  },
  {
   "cell_type": "code",
   "execution_count": null,
   "metadata": {},
   "outputs": [],
   "source": [
    "####MULTI VARIATE LINEAR REGRESSION\n",
    "import os\n",
    "import numpy as np\n",
    "from matplotlib import pyplot\n",
    "from mpl_toolkits.mplot3d import Axes3D\n",
    "import seaborn as sns\n",
    "import pandas as pd\n",
    "%matplotlib inline\n",
    "data2=np.loadtxt('ex1data2.txt',delimiter=',')\n",
    "#data2\n",
    "X=data2[:,0:2]\n",
    "y=data2[:,2]\n",
    "#print(X)\n",
    "#print(y)\n",
    "print(X.shape[1])\n",
    "m=y.size\n",
    "def plotData(X,y):\n",
    "    for i in range(X.shape[1]):\n",
    "        fig=pyplot.figure()\n",
    "        pyplot.plot(X[:,i],y,'ro',ms=10,mec='k')\n",
    "        pyplot.ylabel('Value')\n",
    "        pyplot.xlabel('Attribute: ')\n",
    "plotData(X,y)\n",
    "def featureNormalize(X):\n",
    "    X_norm=X.copy()\n",
    "    mu=np.zeros(X.shape[1])\n",
    "    sigma=np.zeros(X.shape[1])\n",
    "    mu=np.mean(X,axis=0)\n",
    "    sigma=np.std(X,axis=0)\n",
    "    X_norm=(X-mu)/sigma\n",
    "    return X_norm,mu,sigma\n",
    "X_norm,mu,sigma=featureNormalize(X)\n",
    "print(X_norm)\n",
    "print(mu)\n",
    "print(sigma)\n",
    "def computeCost(X_new,y,theta):\n",
    "    J=0\n",
    "    theta=theta.copy()\n",
    "    m=y.size\n",
    "    h=np.dot(X_new,theta)\n",
    "    J=(1/(2*m))*np.sum(np.square(h-y))\n",
    "    return J\n",
    "def gradientDescent(X_new,y,theta,alpha,num_of_iters):\n",
    "    J_history=[]\n",
    "    m=y.size\n",
    "    for i in range(num_of_iters):\n",
    "        theta=theta-(alpha/m)*(np.dot(X_new,theta)-y).dot(X_new)\n",
    "        J_history.append(computeCost(X_new,y,theta))\n",
    "    return theta, J_history\n",
    "X_new=np.ones((X.shape[0],X.shape[1]+1))\n",
    "X_new[:,1:]=X_norm\n",
    "print(X_new)\n",
    "iterations=500\n",
    "alpha=0.01\n",
    "theta=np.zeros(X_new.shape[1])\n",
    "print(\"assigned theta: \",theta)\n",
    "theta, J_history=gradientDescent(X_new,y,theta,alpha,iterations)\n",
    "print(J_history)\n",
    "print(\"Theta final: \", theta)\n",
    "pyplot.plot(np.arange(len(J_history)),J_history,lw=2)\n",
    "pyplot.xlabel('number of iteration')\n",
    "pyplot.ylabel('cost value')\n",
    "iterations=500\n",
    "alpha=0.1\n",
    "theta=np.zeros(X_new.shape[1])\n",
    "print(\"assigned theta: \",theta)\n",
    "theta, J_history=gradientDescent(X_new,y,theta,alpha,iterations)\n",
    "print(J_history)\n",
    "print(\"Theta final: \", theta)\n",
    "pyplot.plot(np.arange(len(J_history)),J_history,lw=3)\n",
    "pyplot.xlabel('number of iteration')\n",
    "pyplot.ylabel('cost value')\n",
    "X_array=[1,1650,3]\n",
    "X_array[1:3]=(X_array[1:3]-mu)/sigma\n",
    "print(np.dot(X_array,theta))\n"
   ]
  },
  {
   "cell_type": "code",
   "execution_count": null,
   "metadata": {},
   "outputs": [],
   "source": []
  }
 ],
 "metadata": {
  "kernelspec": {
   "display_name": "Python 3",
   "language": "python",
   "name": "python3"
  },
  "language_info": {
   "codemirror_mode": {
    "name": "ipython",
    "version": 3
   },
   "file_extension": ".py",
   "mimetype": "text/x-python",
   "name": "python",
   "nbconvert_exporter": "python",
   "pygments_lexer": "ipython3",
   "version": "3.7.6"
  }
 },
 "nbformat": 4,
 "nbformat_minor": 4
}
